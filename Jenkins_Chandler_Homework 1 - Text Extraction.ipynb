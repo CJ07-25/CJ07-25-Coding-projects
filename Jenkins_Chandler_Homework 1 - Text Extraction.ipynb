{
 "cells": [
  {
   "cell_type": "code",
   "id": "initial_id",
   "metadata": {
    "collapsed": true,
    "ExecuteTime": {
     "end_time": "2025-03-03T00:05:29.748890Z",
     "start_time": "2025-03-03T00:05:29.738190Z"
    }
   },
   "source": "folder_path = (\"AkcoraCV.pdf\")",
   "outputs": [],
   "execution_count": 4
  },
  {
   "metadata": {
    "ExecuteTime": {
     "end_time": "2025-03-03T00:05:29.658117Z",
     "start_time": "2025-03-03T00:05:26.546357Z"
    }
   },
   "cell_type": "code",
   "source": "!pip install PyPDF2",
   "id": "d37e855532ac13b2",
   "outputs": [
    {
     "name": "stdout",
     "output_type": "stream",
     "text": [
      "Requirement already satisfied: PyPDF2 in c:\\users\\cdoub\\pycharmprojects\\pythonproject3\\.venv\\lib\\site-packages (3.0.1)\n"
     ]
    }
   ],
   "execution_count": 3
  },
  {
   "metadata": {
    "ExecuteTime": {
     "end_time": "2025-03-03T00:05:29.974698Z",
     "start_time": "2025-03-03T00:05:29.774459Z"
    }
   },
   "cell_type": "code",
   "source": [
    "import os\n",
    "import glob\n",
    "import pandas as pd\n",
    "import PyPDF2"
   ],
   "id": "551f773fc5799b7c",
   "outputs": [],
   "execution_count": 5
  },
  {
   "metadata": {
    "ExecuteTime": {
     "end_time": "2025-03-03T00:06:09.091746Z",
     "start_time": "2025-03-03T00:06:05.998430Z"
    }
   },
   "cell_type": "code",
   "source": [
    "!pip install pdfminer.six\n",
    "import re\n",
    "from pdfminer.high_level import extract_text\n",
    "# Extract text from the PDF\n",
    "all_text = extract_text(\"AkcoraCV.pdf\")\n",
    "\n",
    "pattern = r\"Peer Reviewed Conference Papers(.*?)Journal Publications\"\n",
    "\n",
    "# Use re.DOTALL to match across multiple lines\n",
    "match = re.search(pattern, all_text, re.DOTALL)\n",
    "\n",
    "# Extract the relevant text\n",
    "if match:\n",
    "    journal_text = match.group(1).strip()  # Strip removes extra whitespace\n",
    "    print(\"\\nPeer Reviewed Conference Papers:\\n\")\n",
    "else:\n",
    "    print(\"Section not found in the document.\")\n",
    "    exit()  # Exit if the section is not found\n",
    "\n",
    "# 🛠 Fix PDF formatting issues\n",
    "journal_text = journal_text.replace(\"-\\n\", \"\").replace(\"\\n\", \" \")  # Merge lines\n",
    "\n",
    "# Regular expression to match names appearing after \"(cid:5)\" until the next newline\n",
    "name_pattern = r\"\\(cid:5\\)\\s*\\n*([\\s\\S]+?)(?=\\s*\\(cid:|\\n{2,}|$)\"\n",
    "\n",
    "# Find all matches\n",
    "names = re.findall(name_pattern, journal_text)\n",
    "\n",
    "# Regex pattern to detect and remove author names (common format: Lastname, Initial.)\n",
    "author_pattern = r\"(?:[A-Z][a-z]+(?:-[A-Z][a-z]+)?,\\s*[A-Z]\\.*(?:\\s*[A-Z]\\.*)*)\"\n",
    "\n",
    "# Display the extracted titles without authors\n",
    "print(\"\\n Extracted Titles:\")\n",
    "for name in names:\n",
    "    lines = name.split(\". \")[:1]  # Split title at periods (.) and get first two parts\n",
    "    short_title = \" \".join(lines).strip().replace(\"*\", \"\")  # Remove asterisks\n",
    "\n",
    "    # Remove author names using regex\n",
    "    clean_title = re.sub(author_pattern, \"\", short_title).strip(\", \")\n",
    "\n",
    "    # Remove last character if needed\n",
    "    fixed_title = clean_title[:-1] if clean_title else clean_title\n",
    "\n",
    "    print(f\"- {fixed_title}\")\n"
   ],
   "id": "5c0e2a8f9c9251f3",
   "outputs": [
    {
     "name": "stdout",
     "output_type": "stream",
     "text": [
      "Requirement already satisfied: pdfminer.six in c:\\users\\cdoub\\pycharmprojects\\pythonproject3\\.venv\\lib\\site-packages (20231228)\n",
      "Requirement already satisfied: charset-normalizer>=2.0.0 in c:\\users\\cdoub\\pycharmprojects\\pythonproject3\\.venv\\lib\\site-packages (from pdfminer.six) (3.4.1)\n",
      "Requirement already satisfied: cryptography>=36.0.0 in c:\\users\\cdoub\\pycharmprojects\\pythonproject3\\.venv\\lib\\site-packages (from pdfminer.six) (44.0.2)\n",
      "Requirement already satisfied: cffi>=1.12 in c:\\users\\cdoub\\pycharmprojects\\pythonproject3\\.venv\\lib\\site-packages (from cryptography>=36.0.0->pdfminer.six) (1.17.1)\n",
      "Requirement already satisfied: pycparser in c:\\users\\cdoub\\pycharmprojects\\pythonproject3\\.venv\\lib\\site-packages (from cffi>=1.12->cryptography>=36.0.0->pdfminer.six) (2.22)\n",
      "\n",
      "Peer Reviewed Conference Papers:\n",
      "\n",
      "\n",
      " Extracted Titles:\n",
      "- GOttack: Universal Adversarial Attacks on Graph Neural Networks via Graph Orbits  Learning \n",
      "- Chainlet Orbits: Topological Address Embedding for the Bitcoin Blockchain  \n",
      "- On the Impact of the Lightning Network on Bitcoin Transaction Fees and Network Value  \n",
      "- GraphPulse: Topological representations for temporal graph property prediction  \n",
      "- Deep Learning-Based Credit Score Prediction: Hybrid LSTM-GRU Mode\n",
      "- CALOSYS—A Robust Blockchain-based Marketing Loan Ecosystem for Small Businesse\n",
      "- Smart Vectorizations for Single and Multiparameter Persistence  \n",
      "- Chartalist: Labeled Graph Datasets for UTXO and Account based blockchains  \n",
      "- Reduction Algorithms for Persistence Diagrams of Networks: CoralTDA and PrunIT  \n",
      "- Topological anomaly detection in dynamic multilayer blockchain networks  \n",
      "- Alphacore: Data Depth based Core Decomposition  \n",
      "- BitcoinHeist: Topological Data Analysis for Ransomware Payment Detection on the Bit coin Blockchain \n",
      "- Ethereum Token Price Anomaly Prediction with Topological Depth Curves \n",
      "- ChainNet: Learning on Blockchain Graphs with Topological Features  \n",
      "- Attacklets: Modeling High Dimensionality in Real World Cyberattacks  \n",
      "- Forecasting Bitcoin Price with Graph Chainlets \n",
      "- Temporal rules discovery for web data cleaning  \n",
      "- Discovering trust patterns in ego networks  \n",
      "- Multi-dimensional conversation analysis across online social networks  \n",
      "- Risks of friendships on social networks  \n",
      "- Privacy in social networks, how risky is your social graph?  \n",
      "- Network and proﬁle based measures for user similarities on social networks  \n",
      "- Building virtual communities on top of online social networks  \n",
      "- Crowd-sourced sensing and collaboration using Twitter  \n"
     ]
    }
   ],
   "execution_count": 8
  }
 ],
 "metadata": {
  "kernelspec": {
   "display_name": "Python 3",
   "language": "python",
   "name": "python3"
  },
  "language_info": {
   "codemirror_mode": {
    "name": "ipython",
    "version": 2
   },
   "file_extension": ".py",
   "mimetype": "text/x-python",
   "name": "python",
   "nbconvert_exporter": "python",
   "pygments_lexer": "ipython2",
   "version": "2.7.6"
  }
 },
 "nbformat": 4,
 "nbformat_minor": 5
}
